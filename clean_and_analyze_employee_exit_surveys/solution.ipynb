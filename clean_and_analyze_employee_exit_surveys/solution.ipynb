{
 "cells": [
  {
   "cell_type": "markdown",
   "id": "5d62f2dd-f779-459f-a03c-5716e28d58df",
   "metadata": {},
   "source": [
    "Working with exit surveys from employees of the Department of Education, Trainging and Employment (DETE)\n",
    "and the Technical and Further Education (TAFE) institute in Queensland, Australia. The .csv files can be found\n",
    "in the data folder.\n",
    "\n",
    "Goal is to answer these two questions:\n",
    "Are employees who only worked for the insitutes for a short period of time resigning due to some kind of dissatisfaction? \n",
    "    What about employees employees who have been there longer?\n",
    "Are younger employees resigning due to some kind of dissatisfaction?\n",
    "    What about older employees?\n"
   ]
  },
  {
   "cell_type": "code",
   "execution_count": 1,
   "id": "7e3fa61d-9dc8-451c-b51f-1b0f75e434d6",
   "metadata": {},
   "outputs": [],
   "source": [
    "import pandas as pd\n",
    "import numpy as np"
   ]
  },
  {
   "cell_type": "code",
   "execution_count": 2,
   "id": "a8fb979d-208b-42ab-9d73-23ba5b41acd4",
   "metadata": {},
   "outputs": [],
   "source": [
    "dete_survey = pd.read_csv(\"./data/dete_survey.csv\")\n",
    "tafe_survey = pd.read_csv(\"./data/tafe_survey.csv\")"
   ]
  },
  {
   "cell_type": "code",
   "execution_count": 3,
   "id": "2cbb5eee-30d7-4683-ab10-133bc500bae5",
   "metadata": {},
   "outputs": [
    {
     "data": {
      "text/plain": [
       "Torres Strait                          819\n",
       "South Sea                              815\n",
       "Aboriginal                             806\n",
       "Disability                             799\n",
       "NESB                                   790\n",
       "Business Unit                          696\n",
       "Classification                         367\n",
       "Opportunities for promotion             87\n",
       "Career Aspirations                      76\n",
       "Wellness programs                       56\n",
       "Coach                                   55\n",
       "Further PD                              54\n",
       "Workplace issue                         34\n",
       "Feedback                                30\n",
       "Health & Safety                         29\n",
       "Gender                                  24\n",
       "Professional Development                14\n",
       "Stress and pressure support             12\n",
       "Skills                                  11\n",
       "Age                                     11\n",
       "Peer support                            10\n",
       "My say                                  10\n",
       "Initiative                               9\n",
       "Performance of supervisor                9\n",
       "Kept informed                            9\n",
       "Communication                            8\n",
       "Worklife balance                         7\n",
       "Staff morale                             6\n",
       "Information                              6\n",
       "Employment Status                        5\n",
       "Physical environment                     5\n",
       "Position                                 5\n",
       "Job dissatisfaction                      0\n",
       "Career move to public sector             0\n",
       "Region                                   0\n",
       "Role Start Date                          0\n",
       "Career move to private sector            0\n",
       "DETE Start Date                          0\n",
       "Cease Date                               0\n",
       "Interpersonal conflicts                  0\n",
       "Lack of job security                     0\n",
       "Dissatisfaction with the department      0\n",
       "Work location                            0\n",
       "Physical work environment                0\n",
       "Lack of recognition                      0\n",
       "SeparationType                           0\n",
       "None of the above                        0\n",
       "Workload                                 0\n",
       "Work life balance                        0\n",
       "Traumatic incident                       0\n",
       "Ill Health                               0\n",
       "Study/Travel                             0\n",
       "Relocation                               0\n",
       "Maternity/family                         0\n",
       "Employment conditions                    0\n",
       "ID                                       0\n",
       "dtype: int64"
      ]
     },
     "execution_count": 3,
     "metadata": {},
     "output_type": "execute_result"
    }
   ],
   "source": [
    "# dete_survey.info()\n",
    "# dete_survey.head()\n",
    "dete_survey.isnull().sum().sort_values(ascending=False)\n",
    "\n",
    "# Roughly 822 rows\n",
    "# Torres Strait and South Sea have over 815 null values, could possibly drop\n",
    "# Roughly 13 columns have less than 11 values missing, could proxy\n",
    "# Columns in between that require more cleaning analytics\n"
   ]
  },
  {
   "cell_type": "code",
   "execution_count": 4,
   "id": "e03b13fb-7db8-4a15-8ec6-35fe852b50c5",
   "metadata": {},
   "outputs": [
    {
     "data": {
      "text/plain": [
       "WorkUnitViews. Topic:24. I was able to cope with the level of stress and pressure in my job                92\n",
       "WorkUnitViews. Topic:17. I was encouraged to use my initiative in the course of my work                    92\n",
       "InstituteViews. Topic:9. I was kept informed of the changes in the organisation which would affect me      92\n",
       "WorkUnitViews. Topic:25. My job allowed me to balance the demands of work and family to my satisfaction    91\n",
       "WorkUnitViews. Topic:23. My job provided sufficient variety                                                91\n",
       "InstituteViews. Topic:2. I was given access to skills training to help me do my job better                 89\n",
       "WorkUnitViews. Topic:18. I had sufficient contact with other people in my job                              89\n",
       "InstituteViews. Topic:7. Management was generally supportive of me                                         88\n",
       "InstituteViews. Topic:5. I felt the salary for the job was right for the responsibilities I had            87\n",
       "Induction. Did you undertake Workplace Induction?                                                          83\n",
       "CESSATION YEAR                                                                                              7\n",
       "Reason for ceasing employment                                                                               1\n",
       "Institute                                                                                                   0\n",
       "WorkArea                                                                                                    0\n",
       "Record ID                                                                                                   0\n",
       "dtype: int64"
      ]
     },
     "execution_count": 4,
     "metadata": {},
     "output_type": "execute_result"
    }
   ],
   "source": [
    "# dete_survey.info()\n",
    "# dete_survey.head()\n",
    "tafe_survey.isnull().sum().sort_values(ascending=False).tail(15)\n",
    "\n",
    "# Roughly 822 rows\n",
    "# Main Factor. Which of these was the main factor for leaving? col has the most missing values @ 589 followed by \n",
    "# InductionInfo. Topic:Did you undertake a Corporate Induction? @ 270\n",
    "# Roughly 2 columns have less than 11 values missing, could proxy\n",
    "# Lot of 80s and 90s though"
   ]
  },
  {
   "cell_type": "markdown",
   "id": "c15cc453-8b7b-4795-ba0e-31ae062df467",
   "metadata": {},
   "source": [
    "Often cleaning and reshaping is the hardest part\n",
    "dete_survey contains 'Not Stated' values that indicate values are missing but not represented as NaN\n",
    "both csv files contain many columns we do not need\n",
    "each dataframe has the same columns, but column names are different\n",
    "there are multiple columns/answers that indicate an employee resigned because they were dissatisfied"
   ]
  },
  {
   "cell_type": "code",
   "execution_count": 5,
   "id": "77afe5f6-b3be-418b-81a4-625fca2d3ba1",
   "metadata": {},
   "outputs": [],
   "source": [
    "# Read the dete_survey again but with Not Stated values change NaN\n",
    "dete_survey = pd.read_csv(\"./data/dete_survey.csv\", na_values=\"Not Stated\")"
   ]
  },
  {
   "cell_type": "code",
   "execution_count": 6,
   "id": "2bc71b1b-da10-49b5-b0b5-b0d82c2bae33",
   "metadata": {},
   "outputs": [],
   "source": [
    "# Drop columns because they are not relevant to answering our goals\n",
    "dete_survey_updated = dete_survey.drop(dete_survey.columns[28:49], axis=1)\n",
    "tafe_survey_updated = tafe_survey.drop(tafe_survey.columns[17:66], axis=1)"
   ]
  },
  {
   "cell_type": "code",
   "execution_count": 7,
   "id": "0df1a3e0-248b-4218-aaaa-15ede7bfcefd",
   "metadata": {},
   "outputs": [
    {
     "data": {
      "text/plain": [
       "Index(['id', 'separationtype', 'cease_date', 'dete_start_date',\n",
       "       'role_start_date', 'position', 'classification', 'region',\n",
       "       'business_unit', 'employment_status', 'career_move_to_public_sector',\n",
       "       'career_move_to_private_sector', 'interpersonal_conflicts',\n",
       "       'job_dissatisfaction', 'dissatisfaction_with_the_department',\n",
       "       'physical_work_environment', 'lack_of_recognition',\n",
       "       'lack_of_job_security', 'work_location', 'employment_conditions',\n",
       "       'maternity/family', 'relocation', 'study/travel', 'ill_health',\n",
       "       'traumatic_incident', 'work_life_balance', 'workload',\n",
       "       'none_of_the_above', 'gender', 'age', 'aboriginal', 'torres_strait',\n",
       "       'south_sea', 'disability', 'nesb'],\n",
       "      dtype='object')"
      ]
     },
     "execution_count": 7,
     "metadata": {},
     "output_type": "execute_result"
    }
   ],
   "source": [
    "# IDs we would like to use ID, Seapration Type, Cease Date, Dete Start Date, Length of Service, Age, Gender\n",
    "# make col names lowercase, remove any trailing whitespace, replace spaces with underscores\n",
    "dete_survey_updated.columns = dete_survey_updated.columns.str.lower().str.strip().str.replace(\" \", \"_\")\n",
    "dete_survey_updated.columns"
   ]
  },
  {
   "cell_type": "code",
   "execution_count": 8,
   "id": "1646d4cf-bfa6-43f2-a70c-64bc63ee237d",
   "metadata": {},
   "outputs": [
    {
     "data": {
      "text/plain": [
       "Index(['id', 'Institute', 'WorkArea', 'cease_date', 'separationtype',\n",
       "       'Contributing Factors. Career Move - Public Sector ',\n",
       "       'Contributing Factors. Career Move - Private Sector ',\n",
       "       'Contributing Factors. Career Move - Self-employment',\n",
       "       'Contributing Factors. Ill Health',\n",
       "       'Contributing Factors. Maternity/Family',\n",
       "       'Contributing Factors. Dissatisfaction',\n",
       "       'Contributing Factors. Job Dissatisfaction',\n",
       "       'Contributing Factors. Interpersonal Conflict',\n",
       "       'Contributing Factors. Study', 'Contributing Factors. Travel',\n",
       "       'Contributing Factors. Other', 'Contributing Factors. NONE', 'gender',\n",
       "       'age', 'employment_status', 'position', 'institute_service',\n",
       "       'role_service'],\n",
       "      dtype='object')"
      ]
     },
     "execution_count": 8,
     "metadata": {},
     "output_type": "execute_result"
    }
   ],
   "source": [
    "# update the columns in tafe with a rename dictionary\n",
    "rename_dic = {\n",
    "    'Record ID': \"id\", 'CESSATION YEAR': \"cease_date\", 'Reason for ceasing employment': \"separationtype\", 'Gender. What is your Gender?': \"gender\",\n",
    "    'CurrentAge. Current Age': \"age\", 'Employment Type. Employment Type': 'employment_status', 'Classification. Classification': 'position',\n",
    "    'LengthofServiceOverall. Overall Length of Service at Institute (in years)': 'institute_service',\n",
    "    'LengthofServiceCurrent. Length of Service at current workplace (in years)': 'role_service'\n",
    "}\n",
    "tafe_survey_updated = tafe_survey_updated.rename(columns = rename_dic)\n",
    "tafe_survey_updated.columns"
   ]
  },
  {
   "cell_type": "code",
   "execution_count": 9,
   "id": "226598f9-983a-4e77-9dc7-c88fd97db41f",
   "metadata": {},
   "outputs": [
    {
     "data": {
      "text/plain": [
       "Age Retirement                          285\n",
       "Resignation-Other reasons               150\n",
       "Resignation-Other employer               91\n",
       "Resignation-Move overseas/interstate     70\n",
       "Voluntary Early Retirement (VER)         67\n",
       "Ill Health Retirement                    61\n",
       "Other                                    49\n",
       "Contract Expired                         34\n",
       "Termination                              15\n",
       "Name: separationtype, dtype: int64"
      ]
     },
     "execution_count": 9,
     "metadata": {},
     "output_type": "execute_result"
    }
   ],
   "source": [
    "# Looking for survey respondents who resigned, col separationtype col with str \"Resignation\"\n",
    "dete_survey_updated[\"separationtype\"].value_counts()"
   ]
  },
  {
   "cell_type": "code",
   "execution_count": 10,
   "id": "8c4180ab-b103-43bb-9421-5ad9706d0b26",
   "metadata": {},
   "outputs": [
    {
     "data": {
      "text/plain": [
       "Resignation                 340\n",
       "Contract Expired            127\n",
       "Retrenchment/ Redundancy    104\n",
       "Retirement                   82\n",
       "Transfer                     25\n",
       "Termination                  23\n",
       "Name: separationtype, dtype: int64"
      ]
     },
     "execution_count": 10,
     "metadata": {},
     "output_type": "execute_result"
    }
   ],
   "source": [
    "tafe_survey_updated[\"separationtype\"].value_counts()"
   ]
  },
  {
   "cell_type": "code",
   "execution_count": 11,
   "id": "c3e5a330-7410-4bab-a637-85ec00583400",
   "metadata": {},
   "outputs": [],
   "source": [
    "dete_resignations = dete_survey_updated[dete_survey_updated[\"separationtype\"].str.contains(\"Resignation\")].copy()\n",
    "\n",
    "tafe_survey_updated[\"separationtype\"] = tafe_survey_updated[\"separationtype\"].fillna(False)\n",
    "# Index 324 has a bunch of NaN values that is breaking the bool mask, so I've decided to drop it\n",
    "tafe_survey_updated = tafe_survey_updated.drop(axis=0, index=324)\n",
    "tafe_resignations = tafe_survey_updated[tafe_survey_updated[\"separationtype\"].str.contains(\"Resignation\")].copy()"
   ]
  },
  {
   "cell_type": "code",
   "execution_count": 12,
   "id": "04c8be7b-7f52-4e97-8fcd-8dfa84b7363f",
   "metadata": {},
   "outputs": [
    {
     "data": {
      "text/plain": [
       "2013.0    146\n",
       "2012.0    129\n",
       "2014.0     22\n",
       "2010.0      2\n",
       "2006.0      1\n",
       "Name: cease_date, dtype: int64"
      ]
     },
     "execution_count": 12,
     "metadata": {},
     "output_type": "execute_result"
    }
   ],
   "source": [
    "# Verify that the years in cease_date and dete_start_date make sense\n",
    "# cease_date shouldn't have dates after it\n",
    "# dete_start_dete shouldn't contain values before 1940\n",
    "import re\n",
    "regex_pat = re.compile(r\"[0-9]{2}/\")\n",
    "dete_resignations[\"cease_date\"] = dete_resignations[\"cease_date\"].str.replace(regex_pat, \"\", regex=True).astype(float)\n",
    "dete_resignations[\"cease_date\"].value_counts()"
   ]
  },
  {
   "cell_type": "code",
   "execution_count": 13,
   "id": "c5b41c10-1ff6-4a39-b9b5-a96f90fc22c8",
   "metadata": {},
   "outputs": [
    {
     "data": {
      "text/plain": [
       "2013.0    10\n",
       "2012.0    21\n",
       "2011.0    24\n",
       "2010.0    17\n",
       "2009.0    13\n",
       "2008.0    22\n",
       "2007.0    21\n",
       "2006.0    13\n",
       "2005.0    15\n",
       "2004.0    14\n",
       "2003.0     6\n",
       "2002.0     6\n",
       "2001.0     3\n",
       "2000.0     9\n",
       "1999.0     8\n",
       "1998.0     6\n",
       "1997.0     5\n",
       "1996.0     6\n",
       "1995.0     4\n",
       "1994.0     6\n",
       "1993.0     5\n",
       "1992.0     6\n",
       "1991.0     4\n",
       "1990.0     5\n",
       "1989.0     4\n",
       "1988.0     4\n",
       "1987.0     1\n",
       "1986.0     3\n",
       "1985.0     3\n",
       "1984.0     1\n",
       "1983.0     2\n",
       "1982.0     1\n",
       "1980.0     5\n",
       "1977.0     1\n",
       "1976.0     2\n",
       "1975.0     1\n",
       "1974.0     2\n",
       "1973.0     1\n",
       "1972.0     1\n",
       "1971.0     1\n",
       "1963.0     1\n",
       "Name: dete_start_date, dtype: int64"
      ]
     },
     "execution_count": 13,
     "metadata": {},
     "output_type": "execute_result"
    }
   ],
   "source": [
    "# dete_start_dete contains no irregularties like 1940 and is a float number\n",
    "dete_resignations[\"dete_start_date\"].value_counts().sort_index(ascending=False)"
   ]
  },
  {
   "cell_type": "code",
   "execution_count": 14,
   "id": "bab3abc0-a008-486c-a942-1cf81210358d",
   "metadata": {},
   "outputs": [
    {
     "data": {
      "text/plain": [
       "2014.0     22\n",
       "2013.0    146\n",
       "2012.0    129\n",
       "2010.0      2\n",
       "2006.0      1\n",
       "Name: cease_date, dtype: int64"
      ]
     },
     "execution_count": 14,
     "metadata": {},
     "output_type": "execute_result"
    }
   ],
   "source": [
    "# Cease date contains no irregularities as well, is a float\n",
    "dete_resignations[\"cease_date\"].value_counts().sort_index(ascending=False)"
   ]
  },
  {
   "cell_type": "code",
   "execution_count": 15,
   "id": "94ac93c6-a434-4fb4-94d3-bc3c2c4befba",
   "metadata": {},
   "outputs": [
    {
     "data": {
      "text/plain": [
       "2013.0     55\n",
       "2012.0     94\n",
       "2011.0    116\n",
       "2010.0     68\n",
       "2009.0      2\n",
       "Name: cease_date, dtype: int64"
      ]
     },
     "execution_count": 15,
     "metadata": {},
     "output_type": "execute_result"
    }
   ],
   "source": [
    "# These years look good as well\n",
    "tafe_resignations[\"cease_date\"].value_counts().sort_index(ascending=False)"
   ]
  },
  {
   "cell_type": "code",
   "execution_count": 16,
   "id": "e3251c60-1d5a-4b8b-be18-5c8e2c88fa84",
   "metadata": {},
   "outputs": [],
   "source": [
    "# Length of time an employee spent in a workplace is referred to as their years of service\n",
    "# tafe_resignations already contains a service column\n",
    "# dete_resignations.columns\n",
    "# use cease date and dete_start_date\n",
    "dete_resignations[\"institute_service\"] = dete_resignations[\"cease_date\"] - dete_resignations[\"dete_start_date\"]\n",
    "# We need a period of time to discern how long an employee was at the company"
   ]
  },
  {
   "cell_type": "code",
   "execution_count": 17,
   "id": "1ac0a804-d9a8-43d9-9c25-5cd411a52a8b",
   "metadata": {},
   "outputs": [
    {
     "data": {
      "text/plain": [
       "-                      270\n",
       "Job Dissatisfaction     62\n",
       "Name: Contributing Factors. Job Dissatisfaction, dtype: int64"
      ]
     },
     "execution_count": 17,
     "metadata": {},
     "output_type": "execute_result"
    }
   ],
   "source": [
    "# View values in the Dissatisfaction\n",
    "tafe_resignations['Contributing Factors. Dissatisfaction'].value_counts()\n",
    "tafe_resignations['Contributing Factors. Job Dissatisfaction'].value_counts()"
   ]
  },
  {
   "cell_type": "code",
   "execution_count": 18,
   "id": "b3160b8f-896a-43e9-8ccb-d36faa68b9f3",
   "metadata": {},
   "outputs": [
    {
     "name": "stdout",
     "output_type": "stream",
     "text": [
      "False    241\n",
      "True      99\n",
      "Name: dissatisfied, dtype: int64\n"
     ]
    }
   ],
   "source": [
    "# Add new column with bools to distinguish if employees were upset\n",
    "def update_vals(element):\n",
    "    if pd.isnull(element):\n",
    "        return np.nan\n",
    "    elif element == \"-\":\n",
    "        return False\n",
    "    else:\n",
    "        return True\n",
    "    \n",
    "tafe_resignations[\"dissatisfied\"] = tafe_resignations[[\"Contributing Factors. Dissatisfaction\", \"Contributing Factors. Job Dissatisfaction\"]].applymap(update_vals).any(axis=1, skipna=False)\n",
    "tafe_resignations_up = tafe_resignations.copy()\n",
    "print(tafe_resignations_up[\"dissatisfied\"].value_counts(dropna=False))"
   ]
  },
  {
   "cell_type": "code",
   "execution_count": 19,
   "id": "d9f97a8b-7f66-4cec-aab6-10886e53c827",
   "metadata": {},
   "outputs": [
    {
     "name": "stdout",
     "output_type": "stream",
     "text": [
      "False    162\n",
      "True     149\n",
      "Name: dissatisfied, dtype: int64\n"
     ]
    }
   ],
   "source": [
    "dete_resignations[\"dissatisfied\"] = dete_resignations[['job_dissatisfaction',\n",
    "       'dissatisfaction_with_the_department', 'physical_work_environment',\n",
    "       'lack_of_recognition', 'lack_of_job_security', 'work_location',\n",
    "       'employment_conditions', 'work_life_balance',\n",
    "       'workload']].any(axis=1, skipna=False)\n",
    "dete_resignations_up = dete_resignations.copy()\n",
    "print(dete_resignations_up[\"dissatisfied\"].value_counts(dropna=False))"
   ]
  },
  {
   "cell_type": "code",
   "execution_count": 27,
   "id": "22bfad00-070e-4822-8cc6-776a30e050a3",
   "metadata": {},
   "outputs": [],
   "source": [
    "# Aggregate data according to the insitute_service\n",
    "dete_resignations_up[\"institute\"] = \"DETE\"\n",
    "tafe_resignations_up[\"institute\"] = \"TAFE\"\n",
    "combined = pd.concat([dete_resignations_up, tafe_resignations_up], ignore_index=True)\n",
    "# We are going to use a thresh of 500\n",
    "combined_updated = combined.dropna(thresh=500,axis=1).copy()"
   ]
  },
  {
   "cell_type": "code",
   "execution_count": 29,
   "id": "7dd6f3ed-d89c-43c5-84c1-01c36602ecce",
   "metadata": {},
   "outputs": [
    {
     "name": "stdout",
     "output_type": "stream",
     "text": [
      "NaN                   88\n",
      "Less than 1 year      73\n",
      "1-2                   64\n",
      "3-4                   63\n",
      "5-6                   33\n",
      "11-20                 26\n",
      "5.0                   23\n",
      "1.0                   22\n",
      "7-10                  21\n",
      "3.0                   20\n",
      "0.0                   20\n",
      "6.0                   17\n",
      "4.0                   16\n",
      "9.0                   14\n",
      "2.0                   14\n",
      "7.0                   13\n",
      "More than 20 years    10\n",
      "13.0                   8\n",
      "8.0                    8\n",
      "15.0                   7\n",
      "20.0                   7\n",
      "10.0                   6\n",
      "14.0                   6\n",
      "12.0                   6\n",
      "17.0                   6\n",
      "22.0                   6\n",
      "18.0                   5\n",
      "16.0                   5\n",
      "11.0                   4\n",
      "23.0                   4\n",
      "24.0                   4\n",
      "32.0                   3\n",
      "39.0                   3\n",
      "19.0                   3\n",
      "21.0                   3\n",
      "36.0                   2\n",
      "25.0                   2\n",
      "30.0                   2\n",
      "26.0                   2\n",
      "28.0                   2\n",
      "49.0                   1\n",
      "41.0                   1\n",
      "27.0                   1\n",
      "42.0                   1\n",
      "29.0                   1\n",
      "34.0                   1\n",
      "31.0                   1\n",
      "33.0                   1\n",
      "35.0                   1\n",
      "38.0                   1\n",
      "Name: institute_service, dtype: int64\n",
      "1.0     159\n",
      "NaN      88\n",
      "3.0      83\n",
      "5.0      56\n",
      "7.0      34\n",
      "11.0     30\n",
      "0.0      20\n",
      "20.0     17\n",
      "6.0      17\n",
      "4.0      16\n",
      "2.0      14\n",
      "9.0      14\n",
      "13.0      8\n",
      "8.0       8\n",
      "15.0      7\n",
      "17.0      6\n",
      "10.0      6\n",
      "12.0      6\n",
      "22.0      6\n",
      "14.0      6\n",
      "18.0      5\n",
      "16.0      5\n",
      "24.0      4\n",
      "23.0      4\n",
      "21.0      3\n",
      "19.0      3\n",
      "39.0      3\n",
      "32.0      3\n",
      "25.0      2\n",
      "28.0      2\n",
      "30.0      2\n",
      "26.0      2\n",
      "36.0      2\n",
      "29.0      1\n",
      "34.0      1\n",
      "27.0      1\n",
      "42.0      1\n",
      "35.0      1\n",
      "41.0      1\n",
      "49.0      1\n",
      "33.0      1\n",
      "38.0      1\n",
      "31.0      1\n",
      "Name: institute_service_up, dtype: int64\n"
     ]
    }
   ],
   "source": [
    "# Lets combine the years into categories\n",
    "# New Less than 3 years at the company\n",
    "# Experience 3-6 years at the company\n",
    "# Established 7-10 years at the company\n",
    "# Veteran 11 or more years at the company\n",
    "combined_updated[\"institute_service_up\"] = combined_updated[\"institute_service\"].astype(\"str\").str.extract(r\"(\\d+)\")\n",
    "combined_updated[\"institute_service_up\"] = combined_updated[\"institute_service_up\"].astype(\"float\")\n",
    "print(combined_updated[\"institute_service\"].value_counts(dropna=False))\n",
    "print(combined_updated[\"institute_service_up\"].value_counts(dropna=False))"
   ]
  },
  {
   "cell_type": "code",
   "execution_count": 30,
   "id": "8d17dc2e-fde4-4986-9c3b-df0e15bb0efa",
   "metadata": {},
   "outputs": [],
   "source": [
    "def service_cats(val):\n",
    "    if val >= 11:\n",
    "        return \"Veteran\"\n",
    "    elif 7 <= val < 11:\n",
    "        return \"Established\"\n",
    "    elif 3 <= val < 7:\n",
    "        return \"Experienced\"\n",
    "    elif pd.isnull(val):\n",
    "        return np.nan\n",
    "    else:\n",
    "        return \"New\""
   ]
  },
  {
   "cell_type": "code",
   "execution_count": 31,
   "id": "d3997749-81ef-40c0-b6e8-7401bfcc6ea6",
   "metadata": {},
   "outputs": [
    {
     "data": {
      "text/plain": [
       "0    Established\n",
       "1        Veteran\n",
       "2    Experienced\n",
       "3        Veteran\n",
       "4    Experienced\n",
       "Name: service_cat, dtype: object"
      ]
     },
     "execution_count": 31,
     "metadata": {},
     "output_type": "execute_result"
    }
   ],
   "source": [
    "combined_updated[\"service_cat\"] = combined_updated[\"institute_service_up\"].apply(service_cats)\n",
    "combined_updated[\"service_cat\"].head(5)"
   ]
  },
  {
   "cell_type": "code",
   "execution_count": 32,
   "id": "afe7755f-d71b-447c-9425-e6c6f49cd40f",
   "metadata": {},
   "outputs": [
    {
     "data": {
      "text/plain": [
       "False    403\n",
       "True     248\n",
       "Name: dissatisfied, dtype: int64"
      ]
     },
     "execution_count": 32,
     "metadata": {},
     "output_type": "execute_result"
    }
   ],
   "source": [
    "combined_updated[\"dissatisfied\"].value_counts(dropna=False)"
   ]
  },
  {
   "cell_type": "code",
   "execution_count": 33,
   "id": "a6809806-e2f4-4fcd-9f5b-a037c152cf73",
   "metadata": {},
   "outputs": [
    {
     "data": {
      "text/plain": [
       "<AxesSubplot:xlabel='service_cat'>"
      ]
     },
     "execution_count": 33,
     "metadata": {},
     "output_type": "execute_result"
    },
    {
     "data": {
      "image/png": "[encoded data removed]",
      "text/plain": [
       "<Figure size 432x288 with 1 Axes>"
      ]
     },
     "metadata": {
      "needs_background": "light"
     },
     "output_type": "display_data"
    }
   ],
   "source": [
    "pv_dissatisfied = combined_updated.pivot_table(index=\"service_cat\", values=\"dissatisfied\")\n",
    "%matplotlib inline\n",
    "pv_dissatisfied.plot(kind=\"bar\", rot=30)"
   ]
  },
  {
   "cell_type": "code",
   "execution_count": null,
   "id": "dabd3bdb-e273-49ec-ac12-b9373e8be7ae",
   "metadata": {},
   "outputs": [],
   "source": [
    "# Based on the output, we can see that new employees are actually the least dissatisfied with their jobs"
   ]
  }
 ],
 "metadata": {
  "kernelspec": {
   "display_name": "Python 3 (ipykernel)",
   "language": "python",
   "name": "python3"
  },
  "language_info": {
   "codemirror_mode": {
    "name": "ipython",
    "version": 3
   },
   "file_extension": ".py",
   "mimetype": "text/x-python",
   "name": "python",
   "nbconvert_exporter": "python",
   "pygments_lexer": "ipython3",
   "version": "3.10.1"
  }
 },
 "nbformat": 4,
 "nbformat_minor": 5
}
